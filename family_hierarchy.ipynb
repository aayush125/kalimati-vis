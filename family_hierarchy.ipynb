{
 "cells": [
  {
   "cell_type": "code",
   "execution_count": 34,
   "id": "0e43cfa6-0cde-4a32-98e5-161a410807ab",
   "metadata": {},
   "outputs": [],
   "source": [
    "import pandas as pd"
   ]
  },
  {
   "cell_type": "code",
   "execution_count": 35,
   "id": "c08ca7e6-0af1-41a9-a1a9-786c08264978",
   "metadata": {},
   "outputs": [
    {
     "data": {
      "text/html": [
       "<div>\n",
       "<style scoped>\n",
       "    .dataframe tbody tr th:only-of-type {\n",
       "        vertical-align: middle;\n",
       "    }\n",
       "\n",
       "    .dataframe tbody tr th {\n",
       "        vertical-align: top;\n",
       "    }\n",
       "\n",
       "    .dataframe thead th {\n",
       "        text-align: right;\n",
       "    }\n",
       "</style>\n",
       "<table border=\"1\" class=\"dataframe\">\n",
       "  <thead>\n",
       "    <tr style=\"text-align: right;\">\n",
       "      <th></th>\n",
       "      <th>Commodity</th>\n",
       "      <th>Date</th>\n",
       "      <th>Unit</th>\n",
       "      <th>Minimum</th>\n",
       "      <th>Maximum</th>\n",
       "      <th>Average</th>\n",
       "      <th>Group</th>\n",
       "      <th>Category</th>\n",
       "    </tr>\n",
       "  </thead>\n",
       "  <tbody>\n",
       "    <tr>\n",
       "      <th>0</th>\n",
       "      <td>Tomato Big(Nepali)</td>\n",
       "      <td>2013-06-16</td>\n",
       "      <td>KG</td>\n",
       "      <td>35.0</td>\n",
       "      <td>40.0</td>\n",
       "      <td>37.5</td>\n",
       "      <td>Tomato</td>\n",
       "      <td>Vegetable</td>\n",
       "    </tr>\n",
       "    <tr>\n",
       "      <th>1</th>\n",
       "      <td>Tomato Small(Local)</td>\n",
       "      <td>2013-06-16</td>\n",
       "      <td>KG</td>\n",
       "      <td>26.0</td>\n",
       "      <td>32.0</td>\n",
       "      <td>29.0</td>\n",
       "      <td>Tomato</td>\n",
       "      <td>Vegetable</td>\n",
       "    </tr>\n",
       "    <tr>\n",
       "      <th>2</th>\n",
       "      <td>Potato Red</td>\n",
       "      <td>2013-06-16</td>\n",
       "      <td>KG</td>\n",
       "      <td>20.0</td>\n",
       "      <td>21.0</td>\n",
       "      <td>20.5</td>\n",
       "      <td>Potato</td>\n",
       "      <td>Vegetable</td>\n",
       "    </tr>\n",
       "    <tr>\n",
       "      <th>3</th>\n",
       "      <td>Potato White</td>\n",
       "      <td>2013-06-16</td>\n",
       "      <td>KG</td>\n",
       "      <td>15.0</td>\n",
       "      <td>16.0</td>\n",
       "      <td>15.5</td>\n",
       "      <td>Potato</td>\n",
       "      <td>Vegetable</td>\n",
       "    </tr>\n",
       "    <tr>\n",
       "      <th>4</th>\n",
       "      <td>Onion Dry (Indian)</td>\n",
       "      <td>2013-06-16</td>\n",
       "      <td>KG</td>\n",
       "      <td>28.0</td>\n",
       "      <td>30.0</td>\n",
       "      <td>29.0</td>\n",
       "      <td>Onion</td>\n",
       "      <td>Vegetable</td>\n",
       "    </tr>\n",
       "  </tbody>\n",
       "</table>\n",
       "</div>"
      ],
      "text/plain": [
       "             Commodity        Date Unit  Minimum  Maximum  Average   Group  \\\n",
       "0   Tomato Big(Nepali)  2013-06-16   KG     35.0     40.0     37.5  Tomato   \n",
       "1  Tomato Small(Local)  2013-06-16   KG     26.0     32.0     29.0  Tomato   \n",
       "2           Potato Red  2013-06-16   KG     20.0     21.0     20.5  Potato   \n",
       "3         Potato White  2013-06-16   KG     15.0     16.0     15.5  Potato   \n",
       "4   Onion Dry (Indian)  2013-06-16   KG     28.0     30.0     29.0   Onion   \n",
       "\n",
       "    Category  \n",
       "0  Vegetable  \n",
       "1  Vegetable  \n",
       "2  Vegetable  \n",
       "3  Vegetable  \n",
       "4  Vegetable  "
      ]
     },
     "execution_count": 35,
     "metadata": {},
     "output_type": "execute_result"
    }
   ],
   "source": [
    "df = pd.read_csv(\"data/kalimati_final.csv\")\n",
    "df.head()"
   ]
  },
  {
   "cell_type": "code",
   "execution_count": 36,
   "id": "91d86ce9-3a04-4892-960f-80c64222b99f",
   "metadata": {},
   "outputs": [
    {
     "data": {
      "text/plain": [
       "Commodity     object\n",
       "Date          object\n",
       "Unit          object\n",
       "Minimum      float64\n",
       "Maximum      float64\n",
       "Average      float64\n",
       "Group         object\n",
       "Category      object\n",
       "dtype: object"
      ]
     },
     "execution_count": 36,
     "metadata": {},
     "output_type": "execute_result"
    }
   ],
   "source": [
    "df.dtypes"
   ]
  },
  {
   "cell_type": "code",
   "execution_count": 37,
   "id": "bf13ef40-a3b8-4794-b63c-2b3641ee0ef9",
   "metadata": {},
   "outputs": [
    {
     "name": "stdout",
     "output_type": "stream",
     "text": [
      "Commodity            object\n",
      "Date         datetime64[ns]\n",
      "Unit                 object\n",
      "Minimum             float64\n",
      "Maximum             float64\n",
      "Average             float64\n",
      "Group                object\n",
      "Category             object\n",
      "dtype: object\n"
     ]
    },
    {
     "data": {
      "text/plain": [
       "Timestamp('2023-09-28 00:00:00')"
      ]
     },
     "execution_count": 37,
     "metadata": {},
     "output_type": "execute_result"
    }
   ],
   "source": [
    "df['Date'] = pd.to_datetime(df['Date'], format='mixed', dayfirst=True)\n",
    "print(df.dtypes)\n",
    "df['Date'].max()"
   ]
  },
  {
   "cell_type": "code",
   "execution_count": 38,
   "id": "85be385a-a592-482b-af31-bb880e1d08bd",
   "metadata": {},
   "outputs": [
    {
     "data": {
      "text/html": [
       "<div>\n",
       "<style scoped>\n",
       "    .dataframe tbody tr th:only-of-type {\n",
       "        vertical-align: middle;\n",
       "    }\n",
       "\n",
       "    .dataframe tbody tr th {\n",
       "        vertical-align: top;\n",
       "    }\n",
       "\n",
       "    .dataframe thead th {\n",
       "        text-align: right;\n",
       "    }\n",
       "</style>\n",
       "<table border=\"1\" class=\"dataframe\">\n",
       "  <thead>\n",
       "    <tr style=\"text-align: right;\">\n",
       "      <th></th>\n",
       "      <th>Commodity</th>\n",
       "      <th>Date</th>\n",
       "      <th>Unit</th>\n",
       "      <th>Minimum</th>\n",
       "      <th>Maximum</th>\n",
       "      <th>Average</th>\n",
       "    </tr>\n",
       "  </thead>\n",
       "  <tbody>\n",
       "    <tr>\n",
       "      <th>0</th>\n",
       "      <td>Tomato Big(Nepali)</td>\n",
       "      <td>2013-06-16</td>\n",
       "      <td>KG</td>\n",
       "      <td>35.0</td>\n",
       "      <td>40.0</td>\n",
       "      <td>37.5</td>\n",
       "    </tr>\n",
       "    <tr>\n",
       "      <th>1</th>\n",
       "      <td>Tomato Small(Local)</td>\n",
       "      <td>2013-06-16</td>\n",
       "      <td>KG</td>\n",
       "      <td>26.0</td>\n",
       "      <td>32.0</td>\n",
       "      <td>29.0</td>\n",
       "    </tr>\n",
       "    <tr>\n",
       "      <th>2</th>\n",
       "      <td>Potato Red</td>\n",
       "      <td>2013-06-16</td>\n",
       "      <td>KG</td>\n",
       "      <td>20.0</td>\n",
       "      <td>21.0</td>\n",
       "      <td>20.5</td>\n",
       "    </tr>\n",
       "    <tr>\n",
       "      <th>3</th>\n",
       "      <td>Potato White</td>\n",
       "      <td>2013-06-16</td>\n",
       "      <td>KG</td>\n",
       "      <td>15.0</td>\n",
       "      <td>16.0</td>\n",
       "      <td>15.5</td>\n",
       "    </tr>\n",
       "    <tr>\n",
       "      <th>4</th>\n",
       "      <td>Onion Dry (Indian)</td>\n",
       "      <td>2013-06-16</td>\n",
       "      <td>KG</td>\n",
       "      <td>28.0</td>\n",
       "      <td>30.0</td>\n",
       "      <td>29.0</td>\n",
       "    </tr>\n",
       "  </tbody>\n",
       "</table>\n",
       "</div>"
      ],
      "text/plain": [
       "             Commodity       Date Unit  Minimum  Maximum  Average\n",
       "0   Tomato Big(Nepali) 2013-06-16   KG     35.0     40.0     37.5\n",
       "1  Tomato Small(Local) 2013-06-16   KG     26.0     32.0     29.0\n",
       "2           Potato Red 2013-06-16   KG     20.0     21.0     20.5\n",
       "3         Potato White 2013-06-16   KG     15.0     16.0     15.5\n",
       "4   Onion Dry (Indian) 2013-06-16   KG     28.0     30.0     29.0"
      ]
     },
     "execution_count": 38,
     "metadata": {},
     "output_type": "execute_result"
    }
   ],
   "source": [
    "df = df.drop(['Group', 'Category'], axis=1)\n",
    "df.head()"
   ]
  },
  {
   "cell_type": "code",
   "execution_count": 39,
   "id": "636bfbfe-ee05-497c-9a38-2f0b59d2ad2e",
   "metadata": {},
   "outputs": [
    {
     "data": {
      "text/html": [
       "<div>\n",
       "<style scoped>\n",
       "    .dataframe tbody tr th:only-of-type {\n",
       "        vertical-align: middle;\n",
       "    }\n",
       "\n",
       "    .dataframe tbody tr th {\n",
       "        vertical-align: top;\n",
       "    }\n",
       "\n",
       "    .dataframe thead th {\n",
       "        text-align: right;\n",
       "    }\n",
       "</style>\n",
       "<table border=\"1\" class=\"dataframe\">\n",
       "  <thead>\n",
       "    <tr style=\"text-align: right;\">\n",
       "      <th></th>\n",
       "      <th>Commodity</th>\n",
       "      <th>Date</th>\n",
       "      <th>Unit</th>\n",
       "      <th>Minimum</th>\n",
       "      <th>Maximum</th>\n",
       "      <th>Average</th>\n",
       "    </tr>\n",
       "  </thead>\n",
       "  <tbody>\n",
       "    <tr>\n",
       "      <th>0</th>\n",
       "      <td>Tomato Big(Indian)</td>\n",
       "      <td>2023-09-29</td>\n",
       "      <td>KG</td>\n",
       "      <td>40.0</td>\n",
       "      <td>50.0</td>\n",
       "      <td>43.75</td>\n",
       "    </tr>\n",
       "    <tr>\n",
       "      <th>1</th>\n",
       "      <td>Tomato Small(Local)</td>\n",
       "      <td>2023-09-29</td>\n",
       "      <td>KG</td>\n",
       "      <td>50.0</td>\n",
       "      <td>60.0</td>\n",
       "      <td>55.00</td>\n",
       "    </tr>\n",
       "    <tr>\n",
       "      <th>2</th>\n",
       "      <td>Tomato Small(Tunnel)</td>\n",
       "      <td>2023-09-29</td>\n",
       "      <td>KG</td>\n",
       "      <td>65.0</td>\n",
       "      <td>78.0</td>\n",
       "      <td>69.60</td>\n",
       "    </tr>\n",
       "    <tr>\n",
       "      <th>3</th>\n",
       "      <td>Tomato Small(Indian)</td>\n",
       "      <td>2023-09-29</td>\n",
       "      <td>KG</td>\n",
       "      <td>50.0</td>\n",
       "      <td>55.0</td>\n",
       "      <td>52.50</td>\n",
       "    </tr>\n",
       "    <tr>\n",
       "      <th>4</th>\n",
       "      <td>Potato Red</td>\n",
       "      <td>2023-09-29</td>\n",
       "      <td>KG</td>\n",
       "      <td>56.0</td>\n",
       "      <td>58.0</td>\n",
       "      <td>57.00</td>\n",
       "    </tr>\n",
       "  </tbody>\n",
       "</table>\n",
       "</div>"
      ],
      "text/plain": [
       "              Commodity        Date Unit  Minimum  Maximum  Average\n",
       "0    Tomato Big(Indian)  2023-09-29   KG     40.0     50.0    43.75\n",
       "1   Tomato Small(Local)  2023-09-29   KG     50.0     60.0    55.00\n",
       "2  Tomato Small(Tunnel)  2023-09-29   KG     65.0     78.0    69.60\n",
       "3  Tomato Small(Indian)  2023-09-29   KG     50.0     55.0    52.50\n",
       "4            Potato Red  2023-09-29   KG     56.0     58.0    57.00"
      ]
     },
     "execution_count": 39,
     "metadata": {},
     "output_type": "execute_result"
    }
   ],
   "source": [
    "df_latest =  pd.read_csv(\"data/kalimati_latest.csv\")\n",
    "df_latest.head()"
   ]
  },
  {
   "cell_type": "code",
   "execution_count": 40,
   "id": "ba46cf60-cb32-41c4-9a09-006ba773cfe1",
   "metadata": {},
   "outputs": [
    {
     "data": {
      "text/plain": [
       "Commodity     object\n",
       "Date          object\n",
       "Unit          object\n",
       "Minimum      float64\n",
       "Maximum      float64\n",
       "Average      float64\n",
       "dtype: object"
      ]
     },
     "execution_count": 40,
     "metadata": {},
     "output_type": "execute_result"
    }
   ],
   "source": [
    "df_latest.dtypes"
   ]
  },
  {
   "cell_type": "code",
   "execution_count": 41,
   "id": "9be9d1f3-3beb-4cb8-b077-cd90e0180508",
   "metadata": {},
   "outputs": [
    {
     "data": {
      "text/plain": [
       "Commodity            object\n",
       "Date         datetime64[ns]\n",
       "Unit                 object\n",
       "Minimum             float64\n",
       "Maximum             float64\n",
       "Average             float64\n",
       "dtype: object"
      ]
     },
     "execution_count": 41,
     "metadata": {},
     "output_type": "execute_result"
    }
   ],
   "source": [
    "df_latest['Date'] = pd.to_datetime(df_latest['Date'], format='mixed', dayfirst=True)\n",
    "df_latest.dtypes"
   ]
  },
  {
   "cell_type": "code",
   "execution_count": 42,
   "id": "f2267946-4032-4005-a724-45a15d44e99f",
   "metadata": {},
   "outputs": [
    {
     "data": {
      "text/plain": [
       "array(['KG', 'Per Dozen', '1 Pc', 'Kg', 'Per Piece'], dtype=object)"
      ]
     },
     "execution_count": 42,
     "metadata": {},
     "output_type": "execute_result"
    }
   ],
   "source": [
    "df_latest['Unit'].unique()"
   ]
  },
  {
   "cell_type": "code",
   "execution_count": 43,
   "id": "72708daf-a1b7-4739-85c9-ee7598abed42",
   "metadata": {},
   "outputs": [],
   "source": [
    "unit_mapping = {\n",
    "    'Kg': 'KG',\n",
    "    'KG': 'KG',\n",
    "    'Doz': 'DOZ',\n",
    "    'Per Dozen': 'DOZ',\n",
    "    '1 Pc': 'PC',\n",
    "    'Per Piece': 'PC'\n",
    "}\n",
    "\n",
    "df_latest['Unit'] = df_latest['Unit'].map(unit_mapping)"
   ]
  },
  {
   "cell_type": "code",
   "execution_count": 44,
   "id": "63138bcf-7d33-4add-9f27-398d629fa443",
   "metadata": {},
   "outputs": [
    {
     "data": {
      "text/plain": [
       "array(['KG', 'DOZ', 'PC'], dtype=object)"
      ]
     },
     "execution_count": 44,
     "metadata": {},
     "output_type": "execute_result"
    }
   ],
   "source": [
    "df_latest['Unit'].unique()"
   ]
  },
  {
   "cell_type": "code",
   "execution_count": 45,
   "id": "72670b4a-0e38-4d87-a3a7-491d9d0fc3ed",
   "metadata": {},
   "outputs": [
    {
     "data": {
      "text/plain": [
       "Commodity            object\n",
       "Date         datetime64[ns]\n",
       "Unit                 object\n",
       "Minimum             float64\n",
       "Maximum             float64\n",
       "Average             float64\n",
       "dtype: object"
      ]
     },
     "execution_count": 45,
     "metadata": {},
     "output_type": "execute_result"
    }
   ],
   "source": [
    "df.dtypes"
   ]
  },
  {
   "cell_type": "code",
   "execution_count": 46,
   "id": "24b8f029-05b0-49a9-8b51-e62111667cbe",
   "metadata": {},
   "outputs": [
    {
     "data": {
      "text/html": [
       "<div>\n",
       "<style scoped>\n",
       "    .dataframe tbody tr th:only-of-type {\n",
       "        vertical-align: middle;\n",
       "    }\n",
       "\n",
       "    .dataframe tbody tr th {\n",
       "        vertical-align: top;\n",
       "    }\n",
       "\n",
       "    .dataframe thead th {\n",
       "        text-align: right;\n",
       "    }\n",
       "</style>\n",
       "<table border=\"1\" class=\"dataframe\">\n",
       "  <thead>\n",
       "    <tr style=\"text-align: right;\">\n",
       "      <th></th>\n",
       "      <th>Commodity</th>\n",
       "      <th>Date</th>\n",
       "      <th>Unit</th>\n",
       "      <th>Minimum</th>\n",
       "      <th>Maximum</th>\n",
       "      <th>Average</th>\n",
       "    </tr>\n",
       "  </thead>\n",
       "  <tbody>\n",
       "    <tr>\n",
       "      <th>0</th>\n",
       "      <td>Tomato Big(Nepali)</td>\n",
       "      <td>2013-06-16</td>\n",
       "      <td>KG</td>\n",
       "      <td>35.0</td>\n",
       "      <td>40.0</td>\n",
       "      <td>37.5</td>\n",
       "    </tr>\n",
       "    <tr>\n",
       "      <th>1</th>\n",
       "      <td>Tomato Small(Local)</td>\n",
       "      <td>2013-06-16</td>\n",
       "      <td>KG</td>\n",
       "      <td>26.0</td>\n",
       "      <td>32.0</td>\n",
       "      <td>29.0</td>\n",
       "    </tr>\n",
       "    <tr>\n",
       "      <th>2</th>\n",
       "      <td>Potato Red</td>\n",
       "      <td>2013-06-16</td>\n",
       "      <td>KG</td>\n",
       "      <td>20.0</td>\n",
       "      <td>21.0</td>\n",
       "      <td>20.5</td>\n",
       "    </tr>\n",
       "    <tr>\n",
       "      <th>3</th>\n",
       "      <td>Potato White</td>\n",
       "      <td>2013-06-16</td>\n",
       "      <td>KG</td>\n",
       "      <td>15.0</td>\n",
       "      <td>16.0</td>\n",
       "      <td>15.5</td>\n",
       "    </tr>\n",
       "    <tr>\n",
       "      <th>4</th>\n",
       "      <td>Onion Dry (Indian)</td>\n",
       "      <td>2013-06-16</td>\n",
       "      <td>KG</td>\n",
       "      <td>28.0</td>\n",
       "      <td>30.0</td>\n",
       "      <td>29.0</td>\n",
       "    </tr>\n",
       "  </tbody>\n",
       "</table>\n",
       "</div>"
      ],
      "text/plain": [
       "             Commodity       Date Unit  Minimum  Maximum  Average\n",
       "0   Tomato Big(Nepali) 2013-06-16   KG     35.0     40.0     37.5\n",
       "1  Tomato Small(Local) 2013-06-16   KG     26.0     32.0     29.0\n",
       "2           Potato Red 2013-06-16   KG     20.0     21.0     20.5\n",
       "3         Potato White 2013-06-16   KG     15.0     16.0     15.5\n",
       "4   Onion Dry (Indian) 2013-06-16   KG     28.0     30.0     29.0"
      ]
     },
     "execution_count": 46,
     "metadata": {},
     "output_type": "execute_result"
    }
   ],
   "source": [
    "df_final = pd.concat([df, df_latest], axis=0)\n",
    "df_final.head()"
   ]
  },
  {
   "cell_type": "code",
   "execution_count": 47,
   "id": "8422cb25-51ec-49b1-8c3f-77aa7512cea1",
   "metadata": {},
   "outputs": [
    {
     "name": "stdout",
     "output_type": "stream",
     "text": [
      "(293641, 6)\n",
      "(44874, 6)\n",
      "(338515, 6)\n"
     ]
    }
   ],
   "source": [
    "print(df.shape)\n",
    "print(df_latest.shape)\n",
    "print(df_final.shape)"
   ]
  },
  {
   "cell_type": "code",
   "execution_count": 49,
   "id": "7e5f5fb1-7127-4b7d-b759-5198b42ee79a",
   "metadata": {},
   "outputs": [
    {
     "data": {
      "text/plain": [
       "array(['KG', 'DOZ', 'PC'], dtype=object)"
      ]
     },
     "execution_count": 49,
     "metadata": {},
     "output_type": "execute_result"
    }
   ],
   "source": [
    "df_final['Unit'].unique()"
   ]
  },
  {
   "cell_type": "code",
   "execution_count": 50,
   "id": "273dc968-0529-4fba-8cb9-6d2371f3e699",
   "metadata": {},
   "outputs": [
    {
     "data": {
      "text/plain": [
       "Commodity            object\n",
       "Date         datetime64[ns]\n",
       "Unit                 object\n",
       "Minimum             float64\n",
       "Maximum             float64\n",
       "Average             float64\n",
       "dtype: object"
      ]
     },
     "execution_count": 50,
     "metadata": {},
     "output_type": "execute_result"
    }
   ],
   "source": [
    "df_final.dtypes"
   ]
  },
  {
   "cell_type": "code",
   "execution_count": 51,
   "id": "60b3cde3-2f7b-454b-b2b5-1aba80996761",
   "metadata": {},
   "outputs": [
    {
     "data": {
      "text/plain": [
       "array(['Tomato Big(Nepali)', 'Tomato Small(Local)', 'Potato Red',\n",
       "       'Potato White', 'Onion Dry (Indian)', 'Carrot(Local)',\n",
       "       'Cabbage(Local)', 'Cauli Local', 'Raddish Red',\n",
       "       'Raddish White(Local)', 'Brinjal Long', 'Brinjal Round',\n",
       "       'Cow pea(Long)', 'Green Peas', 'French Bean(Local)',\n",
       "       'Soyabean Green', 'Bitter Gourd', 'Bottle Gourd',\n",
       "       'Pointed Gourd(Local)', 'Snake Gourd', 'Smooth Gourd',\n",
       "       'Sponge Gourd', 'Pumpkin', 'Squash(Long)', 'Turnip', 'Okara',\n",
       "       'Christophine', 'Brd Leaf Mustard', 'Spinach Leaf', 'Cress Leaf',\n",
       "       'Mustard Leaf', 'Fenugreek Leaf', 'Onion Green', 'Mushroom(Kanya)',\n",
       "       'Asparagus', 'Neuro', 'Brocauli', 'Sugarbeet', 'Drumstick',\n",
       "       'Red Cabbbage', 'Lettuce', 'Celery', 'Parseley', 'Fennel Leaf',\n",
       "       'Mint', 'Turnip A', 'Tamarind', 'Bamboo Shoot', 'Tofu', 'Gundruk',\n",
       "       'Apple(Jholey)', 'Banana', 'Lime', 'Pomegranate', 'Mango(Maldah)',\n",
       "       'Grapes(Green)', 'Water Melon(Green)', 'Sweet Orange', 'Pineapple',\n",
       "       'Cucumber(Local)', 'Jack Fruit', 'Papaya(Nepali)', 'Sugarcane',\n",
       "       'Ginger', 'Chilli Dry', 'Chilli Green', 'Capsicum', 'Garlic Green',\n",
       "       'Coriander Green', 'Garlic Dry Chinese', 'Garlic Dry Nepali',\n",
       "       'Clive Dry', 'Clive Green', 'Fish Fresh', 'Arum', 'Maize',\n",
       "       'Sweet Lime', 'Guava', 'Mombin', 'Barela', 'Lemon', 'Sword Bean',\n",
       "       'Orange(Nepali)', 'Bakula', 'Yam', 'Sweet Potato', 'Mandarin',\n",
       "       'Knolkhol', 'Cauli Terai', 'Kinnow', 'Strawberry',\n",
       "       'Bauhania flower', 'Pear(Local)', 'Litchi(Local)', 'Musk Melon',\n",
       "       'Tomato Small(Tunnel)', 'Potato Red(Indian)', 'Mushroom(Button)',\n",
       "       'Apple(Fuji)', 'Cucumber(Hybrid)', 'Chilli Green(Bullet)',\n",
       "       'Chilli Green(Machhe)', 'Chilli Green(Akbare)', 'Fish Fresh(Rahu)',\n",
       "       'Fish Fresh(Bachuwa)', 'Fish Fresh(Chhadi)', 'Fish Fresh(Mungari)',\n",
       "       'Raddish White(Hybrid)', 'Cowpea(Short)', 'French Bean(Hybrid)',\n",
       "       'French Bean(Rajma)', 'Squash(Round)', 'Mango(Dushari)',\n",
       "       'Water Melon(Dotted)', 'Papaya(Indian)', 'Litchi(Indian)',\n",
       "       'Cabbage', 'Potato Red(Mude)', 'Tomato Big(Indian)',\n",
       "       'Pear(Chinese)', 'Tomato Small(Indian)', 'Orange(Indian)',\n",
       "       'Carrot(Terai)', 'Tomato Small(Terai)', 'Onion Dry (Chinese)',\n",
       "       'Cabbage(Terai)', 'Cauli Local(Jyapu)', 'Pointed Gourd(Terai)',\n",
       "       'Grapes(Black)', 'Kiwi', 'Mango(Calcutte)', 'Mango(Chousa)',\n",
       "       'Sarifa', 'Avocado', 'Amla', 'Tree Tomato', 'King Oyster',\n",
       "       'Lentinula Edodes'], dtype=object)"
      ]
     },
     "execution_count": 51,
     "metadata": {},
     "output_type": "execute_result"
    }
   ],
   "source": [
    "df_final['Commodity'].unique()"
   ]
  },
  {
   "cell_type": "code",
   "execution_count": 66,
   "id": "0973b28a-ddd4-4187-a1ab-8df229b22334",
   "metadata": {},
   "outputs": [
    {
     "data": {
      "text/html": [
       "<div>\n",
       "<style scoped>\n",
       "    .dataframe tbody tr th:only-of-type {\n",
       "        vertical-align: middle;\n",
       "    }\n",
       "\n",
       "    .dataframe tbody tr th {\n",
       "        vertical-align: top;\n",
       "    }\n",
       "\n",
       "    .dataframe thead th {\n",
       "        text-align: right;\n",
       "    }\n",
       "</style>\n",
       "<table border=\"1\" class=\"dataframe\">\n",
       "  <thead>\n",
       "    <tr style=\"text-align: right;\">\n",
       "      <th></th>\n",
       "      <th>Date</th>\n",
       "      <th>Commodity</th>\n",
       "      <th>Unit</th>\n",
       "      <th>Arrival</th>\n",
       "    </tr>\n",
       "  </thead>\n",
       "  <tbody>\n",
       "    <tr>\n",
       "      <th>0</th>\n",
       "      <td>2021-12-16</td>\n",
       "      <td>Tomato Small</td>\n",
       "      <td>KG</td>\n",
       "      <td>73019.0</td>\n",
       "    </tr>\n",
       "    <tr>\n",
       "      <th>1</th>\n",
       "      <td>2021-12-16</td>\n",
       "      <td>Potato Red</td>\n",
       "      <td>KG</td>\n",
       "      <td>141960.0</td>\n",
       "    </tr>\n",
       "    <tr>\n",
       "      <th>2</th>\n",
       "      <td>2021-12-16</td>\n",
       "      <td>Potato White</td>\n",
       "      <td>KG</td>\n",
       "      <td>3850.0</td>\n",
       "    </tr>\n",
       "    <tr>\n",
       "      <th>3</th>\n",
       "      <td>2021-12-16</td>\n",
       "      <td>Carrot</td>\n",
       "      <td>KG</td>\n",
       "      <td>2090.0</td>\n",
       "    </tr>\n",
       "    <tr>\n",
       "      <th>4</th>\n",
       "      <td>2021-12-16</td>\n",
       "      <td>Cabbage</td>\n",
       "      <td>KG</td>\n",
       "      <td>34890.0</td>\n",
       "    </tr>\n",
       "  </tbody>\n",
       "</table>\n",
       "</div>"
      ],
      "text/plain": [
       "         Date     Commodity Unit   Arrival\n",
       "0  2021-12-16  Tomato Small   KG   73019.0\n",
       "1  2021-12-16    Potato Red   KG  141960.0\n",
       "2  2021-12-16  Potato White   KG    3850.0\n",
       "3  2021-12-16        Carrot   KG    2090.0\n",
       "4  2021-12-16       Cabbage   KG   34890.0"
      ]
     },
     "execution_count": 66,
     "metadata": {},
     "output_type": "execute_result"
    }
   ],
   "source": [
    "arrivals_old = pd.read_csv(\"data/arrivals_old.csv\")\n",
    "arrivals_old.head()"
   ]
  },
  {
   "cell_type": "code",
   "execution_count": 67,
   "id": "ae6fa183-291a-4e17-825b-1691ef8b0dbd",
   "metadata": {},
   "outputs": [
    {
     "data": {
      "text/html": [
       "<div>\n",
       "<style scoped>\n",
       "    .dataframe tbody tr th:only-of-type {\n",
       "        vertical-align: middle;\n",
       "    }\n",
       "\n",
       "    .dataframe tbody tr th {\n",
       "        vertical-align: top;\n",
       "    }\n",
       "\n",
       "    .dataframe thead th {\n",
       "        text-align: right;\n",
       "    }\n",
       "</style>\n",
       "<table border=\"1\" class=\"dataframe\">\n",
       "  <thead>\n",
       "    <tr style=\"text-align: right;\">\n",
       "      <th></th>\n",
       "      <th>Date</th>\n",
       "      <th>Commodity</th>\n",
       "      <th>Unit</th>\n",
       "      <th>Arrival</th>\n",
       "    </tr>\n",
       "  </thead>\n",
       "  <tbody>\n",
       "    <tr>\n",
       "      <th>0</th>\n",
       "      <td>2023-09-29</td>\n",
       "      <td>Tomato Big</td>\n",
       "      <td>KG</td>\n",
       "      <td>38750.0</td>\n",
       "    </tr>\n",
       "    <tr>\n",
       "      <th>1</th>\n",
       "      <td>2023-09-29</td>\n",
       "      <td>Tomato Small</td>\n",
       "      <td>KG</td>\n",
       "      <td>25930.0</td>\n",
       "    </tr>\n",
       "    <tr>\n",
       "      <th>2</th>\n",
       "      <td>2023-09-29</td>\n",
       "      <td>Potato Red</td>\n",
       "      <td>KG</td>\n",
       "      <td>298464.0</td>\n",
       "    </tr>\n",
       "    <tr>\n",
       "      <th>3</th>\n",
       "      <td>2023-09-29</td>\n",
       "      <td>Onion Dry</td>\n",
       "      <td>KG</td>\n",
       "      <td>96000.0</td>\n",
       "    </tr>\n",
       "    <tr>\n",
       "      <th>4</th>\n",
       "      <td>2023-09-29</td>\n",
       "      <td>Carrot</td>\n",
       "      <td>KG</td>\n",
       "      <td>13550.0</td>\n",
       "    </tr>\n",
       "  </tbody>\n",
       "</table>\n",
       "</div>"
      ],
      "text/plain": [
       "         Date     Commodity Unit   Arrival\n",
       "0  2023-09-29    Tomato Big   KG   38750.0\n",
       "1  2023-09-29  Tomato Small   KG   25930.0\n",
       "2  2023-09-29    Potato Red   KG  298464.0\n",
       "3  2023-09-29     Onion Dry   KG   96000.0\n",
       "4  2023-09-29        Carrot   KG   13550.0"
      ]
     },
     "execution_count": 67,
     "metadata": {},
     "output_type": "execute_result"
    }
   ],
   "source": [
    "arrivals_new = pd.read_csv(\"data/arrivals_new.csv\")\n",
    "arrivals_new.head()"
   ]
  },
  {
   "cell_type": "code",
   "execution_count": 70,
   "id": "e3a3683a-b843-4ac3-8466-c820ae7f4b45",
   "metadata": {},
   "outputs": [
    {
     "name": "stdout",
     "output_type": "stream",
     "text": [
      "2023-09-28\n",
      "2023-09-29\n"
     ]
    }
   ],
   "source": [
    "print(arrivals_old['Date'].max())\n",
    "print(arrivals_new['Date'].min())"
   ]
  },
  {
   "cell_type": "code",
   "execution_count": 71,
   "id": "45b785e6-fad8-4122-a4db-d4d27c8b846d",
   "metadata": {},
   "outputs": [
    {
     "name": "stdout",
     "output_type": "stream",
     "text": [
      "Date          object\n",
      "Commodity     object\n",
      "Unit          object\n",
      "Arrival      float64\n",
      "dtype: object\n",
      "Date          object\n",
      "Commodity     object\n",
      "Unit          object\n",
      "Arrival      float64\n",
      "dtype: object\n"
     ]
    }
   ],
   "source": [
    "print(arrivals_old.dtypes)\n",
    "print(arrivals_new.dtypes)"
   ]
  },
  {
   "cell_type": "code",
   "execution_count": 72,
   "id": "5d9c3b0b-9d68-4e93-9bd2-97d317342441",
   "metadata": {},
   "outputs": [
    {
     "data": {
      "text/html": [
       "<div>\n",
       "<style scoped>\n",
       "    .dataframe tbody tr th:only-of-type {\n",
       "        vertical-align: middle;\n",
       "    }\n",
       "\n",
       "    .dataframe tbody tr th {\n",
       "        vertical-align: top;\n",
       "    }\n",
       "\n",
       "    .dataframe thead th {\n",
       "        text-align: right;\n",
       "    }\n",
       "</style>\n",
       "<table border=\"1\" class=\"dataframe\">\n",
       "  <thead>\n",
       "    <tr style=\"text-align: right;\">\n",
       "      <th></th>\n",
       "      <th>Date</th>\n",
       "      <th>Commodity</th>\n",
       "      <th>Unit</th>\n",
       "      <th>Arrival</th>\n",
       "    </tr>\n",
       "  </thead>\n",
       "  <tbody>\n",
       "    <tr>\n",
       "      <th>0</th>\n",
       "      <td>2021-12-16</td>\n",
       "      <td>Tomato Small</td>\n",
       "      <td>KG</td>\n",
       "      <td>73019.0</td>\n",
       "    </tr>\n",
       "    <tr>\n",
       "      <th>1</th>\n",
       "      <td>2021-12-16</td>\n",
       "      <td>Potato Red</td>\n",
       "      <td>KG</td>\n",
       "      <td>141960.0</td>\n",
       "    </tr>\n",
       "    <tr>\n",
       "      <th>2</th>\n",
       "      <td>2021-12-16</td>\n",
       "      <td>Potato White</td>\n",
       "      <td>KG</td>\n",
       "      <td>3850.0</td>\n",
       "    </tr>\n",
       "    <tr>\n",
       "      <th>3</th>\n",
       "      <td>2021-12-16</td>\n",
       "      <td>Carrot</td>\n",
       "      <td>KG</td>\n",
       "      <td>2090.0</td>\n",
       "    </tr>\n",
       "    <tr>\n",
       "      <th>4</th>\n",
       "      <td>2021-12-16</td>\n",
       "      <td>Cabbage</td>\n",
       "      <td>KG</td>\n",
       "      <td>34890.0</td>\n",
       "    </tr>\n",
       "  </tbody>\n",
       "</table>\n",
       "</div>"
      ],
      "text/plain": [
       "         Date     Commodity Unit   Arrival\n",
       "0  2021-12-16  Tomato Small   KG   73019.0\n",
       "1  2021-12-16    Potato Red   KG  141960.0\n",
       "2  2021-12-16  Potato White   KG    3850.0\n",
       "3  2021-12-16        Carrot   KG    2090.0\n",
       "4  2021-12-16       Cabbage   KG   34890.0"
      ]
     },
     "execution_count": 72,
     "metadata": {},
     "output_type": "execute_result"
    }
   ],
   "source": [
    "arrivals_final = pd.concat([arrivals_old, arrivals_new], axis=0)\n",
    "arrivals_final.head()"
   ]
  },
  {
   "cell_type": "code",
   "execution_count": 73,
   "id": "a025ae77-2557-4e88-b3a5-f030602c2ac6",
   "metadata": {},
   "outputs": [
    {
     "name": "stdout",
     "output_type": "stream",
     "text": [
      "(27262, 4)\n",
      "(19454, 4)\n",
      "(46716, 4)\n"
     ]
    }
   ],
   "source": [
    "print(arrivals_old.shape)\n",
    "print(arrivals_new.shape)\n",
    "print(arrivals_final.shape)"
   ]
  },
  {
   "cell_type": "code",
   "execution_count": 74,
   "id": "1ea3a919-9630-4d5c-b07c-053045f71248",
   "metadata": {},
   "outputs": [
    {
     "data": {
      "text/plain": [
       "array(['KG', 'Per Piece', 'Kg'], dtype=object)"
      ]
     },
     "execution_count": 74,
     "metadata": {},
     "output_type": "execute_result"
    }
   ],
   "source": [
    "arrivals_final['Unit'].unique()"
   ]
  },
  {
   "cell_type": "code",
   "execution_count": 75,
   "id": "5a842a6c-dd42-4217-b58e-769c49d3d2b5",
   "metadata": {},
   "outputs": [],
   "source": [
    "arrivals_unit_mapping = {\n",
    "    'KG': 'KG',\n",
    "    'Kg': 'KG',\n",
    "    'Per Piece': 'PC'\n",
    "}\n",
    "\n",
    "arrivals_final['Unit'] = arrivals_final['Unit'].map(arrivals_unit_mapping)"
   ]
  },
  {
   "cell_type": "code",
   "execution_count": 77,
   "id": "71d5f6e8-237e-46ba-9956-f040fa7302da",
   "metadata": {},
   "outputs": [
    {
     "data": {
      "text/plain": [
       "array(['KG', 'PC'], dtype=object)"
      ]
     },
     "execution_count": 77,
     "metadata": {},
     "output_type": "execute_result"
    }
   ],
   "source": [
    "arrivals_final['Unit'].unique()"
   ]
  },
  {
   "cell_type": "code",
   "execution_count": 78,
   "id": "64614504-bb54-4911-9a1f-56f692e84547",
   "metadata": {},
   "outputs": [
    {
     "data": {
      "text/plain": [
       "Date          object\n",
       "Commodity     object\n",
       "Unit          object\n",
       "Arrival      float64\n",
       "dtype: object"
      ]
     },
     "execution_count": 78,
     "metadata": {},
     "output_type": "execute_result"
    }
   ],
   "source": [
    "arrivals_final.dtypes"
   ]
  },
  {
   "cell_type": "code",
   "execution_count": 79,
   "id": "131d88b0-c687-4cb9-bc26-b0f754dc0921",
   "metadata": {},
   "outputs": [],
   "source": [
    "arrivals_final['Date'] = pd.to_datetime(arrivals_final['Date'], format='mixed', dayfirst=True)"
   ]
  },
  {
   "cell_type": "code",
   "execution_count": 80,
   "id": "50a124c4-72d4-47fe-a07a-10f8a3f36d61",
   "metadata": {},
   "outputs": [
    {
     "data": {
      "text/plain": [
       "Date         datetime64[ns]\n",
       "Commodity            object\n",
       "Unit                 object\n",
       "Arrival             float64\n",
       "dtype: object"
      ]
     },
     "execution_count": 80,
     "metadata": {},
     "output_type": "execute_result"
    }
   ],
   "source": [
    "arrivals_final.dtypes"
   ]
  },
  {
   "cell_type": "code",
   "execution_count": 81,
   "id": "44d55ad9-8ada-4833-a7d3-2491f5d3a01d",
   "metadata": {},
   "outputs": [
    {
     "data": {
      "text/plain": [
       "array(['Tomato Small', 'Potato Red', 'Potato White', 'Carrot', 'Cabbage',\n",
       "       'Cauli Local', 'Raddish White', 'Brinjal Long', 'Cow pea',\n",
       "       'Green Peas', 'French Bean', 'Sword Bean', 'Soyabean Green',\n",
       "       'Bitter Gourd', 'Pointed Gourd', 'Squash', 'Okara', 'Barela',\n",
       "       'Arum', 'Christophine', 'Brd Leaf Mustard', 'Mustard Leaf',\n",
       "       'Onion Green', 'Bakula', 'Yam', 'Mushroom', 'Brocauli', 'Apple',\n",
       "       'Banana', 'Lime', 'Orange', 'Cucumber', 'Lemon', 'Papaya',\n",
       "       'Mombin', 'Ginger', 'Chilli Green', 'Capsicum', 'Garlic Green',\n",
       "       'Coriander Green', 'Garlic Dry', 'Clive Green', 'Fish Fresh',\n",
       "       'Other', 'Onion Dry', 'Bottle Gourd', 'Pumpkin', 'Sweet Potato',\n",
       "       'Sugarbeet', 'Guava', 'Chilli Dry', 'Smooth Gourd', 'Tomato Big',\n",
       "       'Raddish Red', 'Snake Gourd', 'Spinach Leaf', 'Fish Dry',\n",
       "       'Cress Leaf', 'Tamarind', 'Brinjal Round', 'Knolkhol',\n",
       "       'Fenugreek Leaf', 'Jack Fruit', 'Pomegranate', 'Grapes',\n",
       "       'Strawberry', 'Maize', 'Kinnow', 'Amla', 'Sweet Orange',\n",
       "       'Musk Melon', 'Water Melon', 'Drumstick', 'Gundruk', 'Sweet Lime',\n",
       "       'Bauhania flower', 'Neuro', 'Sponge Gourd', 'Pineapple',\n",
       "       'Asparagus', 'Pear', 'Parseley', 'Mango', 'Avocado', 'Litchi',\n",
       "       'Bamboo Shoot', 'Tofu', 'Clive Dry', 'Mandarin', 'Sarifa',\n",
       "       'Turnip', 'Sugarcane', 'Kiwi', 'Celery', 'Red Cabbbage', 'Lettuce',\n",
       "       'Turnip A', 'Flower', 'Tree Tomato'], dtype=object)"
      ]
     },
     "execution_count": 81,
     "metadata": {},
     "output_type": "execute_result"
    }
   ],
   "source": [
    "arrivals_final['Commodity'].unique()"
   ]
  },
  {
   "cell_type": "code",
   "execution_count": 82,
   "id": "b8582e58-590f-42fd-b8b9-1665551adc68",
   "metadata": {},
   "outputs": [],
   "source": [
    "def create_fam_hierarchy(df1, df2):\n",
    "    commodity_map = {}\n",
    "    unique_det = df1['Commodity'].unique()\n",
    "    unique_fam = df2['Commodity'].unique()\n",
    "    \n",
    "    for detailed_com in unique_det:\n",
    "        for family_com in unique_fam:\n",
    "            if family_com in detailed_com:\n",
    "                commodity_map[detailed_com] = family_com\n",
    "    \n",
    "        if (detailed_com not in commodity_map):\n",
    "            commodity_map[detailed_com] = detailed_com\n",
    "\n",
    "    result_df = df1.copy()\n",
    "    result_df['Family'] = result_df['Commodity'].map(commodity_map)\n",
    "    return result_df"
   ]
  },
  {
   "cell_type": "code",
   "execution_count": 84,
   "id": "290204e6-e661-4042-9000-e5ac821fac2d",
   "metadata": {},
   "outputs": [
    {
     "data": {
      "text/html": [
       "<div>\n",
       "<style scoped>\n",
       "    .dataframe tbody tr th:only-of-type {\n",
       "        vertical-align: middle;\n",
       "    }\n",
       "\n",
       "    .dataframe tbody tr th {\n",
       "        vertical-align: top;\n",
       "    }\n",
       "\n",
       "    .dataframe thead th {\n",
       "        text-align: right;\n",
       "    }\n",
       "</style>\n",
       "<table border=\"1\" class=\"dataframe\">\n",
       "  <thead>\n",
       "    <tr style=\"text-align: right;\">\n",
       "      <th></th>\n",
       "      <th>Commodity</th>\n",
       "      <th>Date</th>\n",
       "      <th>Unit</th>\n",
       "      <th>Minimum</th>\n",
       "      <th>Maximum</th>\n",
       "      <th>Average</th>\n",
       "      <th>Family</th>\n",
       "    </tr>\n",
       "  </thead>\n",
       "  <tbody>\n",
       "    <tr>\n",
       "      <th>0</th>\n",
       "      <td>Tomato Big(Nepali)</td>\n",
       "      <td>2013-06-16</td>\n",
       "      <td>KG</td>\n",
       "      <td>35.0</td>\n",
       "      <td>40.0</td>\n",
       "      <td>37.50</td>\n",
       "      <td>Tomato Big</td>\n",
       "    </tr>\n",
       "    <tr>\n",
       "      <th>1</th>\n",
       "      <td>Tomato Small(Local)</td>\n",
       "      <td>2013-06-16</td>\n",
       "      <td>KG</td>\n",
       "      <td>26.0</td>\n",
       "      <td>32.0</td>\n",
       "      <td>29.00</td>\n",
       "      <td>Tomato Small</td>\n",
       "    </tr>\n",
       "    <tr>\n",
       "      <th>2</th>\n",
       "      <td>Potato Red</td>\n",
       "      <td>2013-06-16</td>\n",
       "      <td>KG</td>\n",
       "      <td>20.0</td>\n",
       "      <td>21.0</td>\n",
       "      <td>20.50</td>\n",
       "      <td>Potato Red</td>\n",
       "    </tr>\n",
       "    <tr>\n",
       "      <th>3</th>\n",
       "      <td>Potato White</td>\n",
       "      <td>2013-06-16</td>\n",
       "      <td>KG</td>\n",
       "      <td>15.0</td>\n",
       "      <td>16.0</td>\n",
       "      <td>15.50</td>\n",
       "      <td>Potato White</td>\n",
       "    </tr>\n",
       "    <tr>\n",
       "      <th>4</th>\n",
       "      <td>Onion Dry (Indian)</td>\n",
       "      <td>2013-06-16</td>\n",
       "      <td>KG</td>\n",
       "      <td>28.0</td>\n",
       "      <td>30.0</td>\n",
       "      <td>29.00</td>\n",
       "      <td>Onion Dry</td>\n",
       "    </tr>\n",
       "    <tr>\n",
       "      <th>...</th>\n",
       "      <td>...</td>\n",
       "      <td>...</td>\n",
       "      <td>...</td>\n",
       "      <td>...</td>\n",
       "      <td>...</td>\n",
       "      <td>...</td>\n",
       "      <td>...</td>\n",
       "    </tr>\n",
       "    <tr>\n",
       "      <th>44869</th>\n",
       "      <td>Fish Fresh(Chhadi)</td>\n",
       "      <td>2024-12-23</td>\n",
       "      <td>KG</td>\n",
       "      <td>240.0</td>\n",
       "      <td>260.0</td>\n",
       "      <td>250.00</td>\n",
       "      <td>Fish Fresh</td>\n",
       "    </tr>\n",
       "    <tr>\n",
       "      <th>44870</th>\n",
       "      <td>Fish Fresh(Mungari)</td>\n",
       "      <td>2024-12-23</td>\n",
       "      <td>KG</td>\n",
       "      <td>400.0</td>\n",
       "      <td>450.0</td>\n",
       "      <td>426.67</td>\n",
       "      <td>Fish Fresh</td>\n",
       "    </tr>\n",
       "    <tr>\n",
       "      <th>44871</th>\n",
       "      <td>Tree Tomato</td>\n",
       "      <td>2024-12-23</td>\n",
       "      <td>KG</td>\n",
       "      <td>150.0</td>\n",
       "      <td>160.0</td>\n",
       "      <td>155.00</td>\n",
       "      <td>Tree Tomato</td>\n",
       "    </tr>\n",
       "    <tr>\n",
       "      <th>44872</th>\n",
       "      <td>King Oyster</td>\n",
       "      <td>2024-12-23</td>\n",
       "      <td>KG</td>\n",
       "      <td>280.0</td>\n",
       "      <td>300.0</td>\n",
       "      <td>290.00</td>\n",
       "      <td>King Oyster</td>\n",
       "    </tr>\n",
       "    <tr>\n",
       "      <th>44873</th>\n",
       "      <td>Lentinula Edodes</td>\n",
       "      <td>2024-12-23</td>\n",
       "      <td>KG</td>\n",
       "      <td>700.0</td>\n",
       "      <td>800.0</td>\n",
       "      <td>750.00</td>\n",
       "      <td>Lentinula Edodes</td>\n",
       "    </tr>\n",
       "  </tbody>\n",
       "</table>\n",
       "<p>338515 rows × 7 columns</p>\n",
       "</div>"
      ],
      "text/plain": [
       "                 Commodity       Date Unit  Minimum  Maximum  Average  \\\n",
       "0       Tomato Big(Nepali) 2013-06-16   KG     35.0     40.0    37.50   \n",
       "1      Tomato Small(Local) 2013-06-16   KG     26.0     32.0    29.00   \n",
       "2               Potato Red 2013-06-16   KG     20.0     21.0    20.50   \n",
       "3             Potato White 2013-06-16   KG     15.0     16.0    15.50   \n",
       "4       Onion Dry (Indian) 2013-06-16   KG     28.0     30.0    29.00   \n",
       "...                    ...        ...  ...      ...      ...      ...   \n",
       "44869   Fish Fresh(Chhadi) 2024-12-23   KG    240.0    260.0   250.00   \n",
       "44870  Fish Fresh(Mungari) 2024-12-23   KG    400.0    450.0   426.67   \n",
       "44871          Tree Tomato 2024-12-23   KG    150.0    160.0   155.00   \n",
       "44872          King Oyster 2024-12-23   KG    280.0    300.0   290.00   \n",
       "44873     Lentinula Edodes 2024-12-23   KG    700.0    800.0   750.00   \n",
       "\n",
       "                 Family  \n",
       "0            Tomato Big  \n",
       "1          Tomato Small  \n",
       "2            Potato Red  \n",
       "3          Potato White  \n",
       "4             Onion Dry  \n",
       "...                 ...  \n",
       "44869        Fish Fresh  \n",
       "44870        Fish Fresh  \n",
       "44871       Tree Tomato  \n",
       "44872       King Oyster  \n",
       "44873  Lentinula Edodes  \n",
       "\n",
       "[338515 rows x 7 columns]"
      ]
     },
     "execution_count": 84,
     "metadata": {},
     "output_type": "execute_result"
    }
   ],
   "source": [
    "result_df = create_fam_hierarchy(df_final, arrivals_final)\n",
    "result_df"
   ]
  },
  {
   "cell_type": "code",
   "execution_count": 85,
   "id": "414aa1e8-dea2-45f7-b8da-a5cdaf7de835",
   "metadata": {},
   "outputs": [
    {
     "data": {
      "text/plain": [
       "array(['Tomato Big', 'Tomato Small', 'Potato Red', 'Potato White',\n",
       "       'Onion Dry', 'Carrot', 'Cabbage', 'Cauli Local', 'Raddish Red',\n",
       "       'Raddish White', 'Brinjal Long', 'Brinjal Round', 'Cow pea',\n",
       "       'Green Peas', 'French Bean', 'Soyabean Green', 'Bitter Gourd',\n",
       "       'Bottle Gourd', 'Pointed Gourd', 'Snake Gourd', 'Smooth Gourd',\n",
       "       'Sponge Gourd', 'Pumpkin', 'Squash', 'Turnip', 'Okara',\n",
       "       'Christophine', 'Brd Leaf Mustard', 'Spinach Leaf', 'Cress Leaf',\n",
       "       'Mustard Leaf', 'Fenugreek Leaf', 'Onion Green', 'Mushroom',\n",
       "       'Asparagus', 'Neuro', 'Brocauli', 'Sugarbeet', 'Drumstick',\n",
       "       'Red Cabbbage', 'Lettuce', 'Celery', 'Parseley', 'Fennel Leaf',\n",
       "       'Mint', 'Turnip A', 'Tamarind', 'Bamboo Shoot', 'Tofu', 'Gundruk',\n",
       "       'Apple', 'Banana', 'Lime', 'Pomegranate', 'Mango', 'Grapes',\n",
       "       'Water Melon', 'Sweet Orange', 'Pineapple', 'Cucumber',\n",
       "       'Jack Fruit', 'Papaya', 'Sugarcane', 'Ginger', 'Chilli Dry',\n",
       "       'Chilli Green', 'Capsicum', 'Garlic Green', 'Coriander Green',\n",
       "       'Garlic Dry', 'Clive Dry', 'Clive Green', 'Fish Fresh', 'Arum',\n",
       "       'Maize', 'Sweet Lime', 'Guava', 'Mombin', 'Barela', 'Lemon',\n",
       "       'Sword Bean', 'Orange', 'Bakula', 'Yam', 'Sweet Potato',\n",
       "       'Mandarin', 'Knolkhol', 'Cauli Terai', 'Kinnow', 'Strawberry',\n",
       "       'Bauhania flower', 'Pear', 'Litchi', 'Musk Melon', 'Cowpea(Short)',\n",
       "       'Kiwi', 'Sarifa', 'Avocado', 'Amla', 'Tree Tomato', 'King Oyster',\n",
       "       'Lentinula Edodes'], dtype=object)"
      ]
     },
     "execution_count": 85,
     "metadata": {},
     "output_type": "execute_result"
    }
   ],
   "source": [
    "result_df['Family'].unique()"
   ]
  },
  {
   "cell_type": "code",
   "execution_count": 86,
   "id": "0e619663-65b5-4486-b706-b07d2f3e3e3f",
   "metadata": {},
   "outputs": [],
   "source": [
    "def classify_commodities(df, debug=True):\n",
    "    \"\"\"\n",
    "    Classify commodities into groups and categories.\n",
    "    \n",
    "    Parameters:\n",
    "    df (pandas.DataFrame): DataFrame containing a 'Commodity' column\n",
    "    debug (bool): If True, prints debug information about unmatched items\n",
    "    \n",
    "    Returns:\n",
    "    pandas.DataFrame: DataFrame with additional 'Group' and 'Category' columns\n",
    "    \"\"\"\n",
    "    # Create a copy to avoid modifying the original DataFrame\n",
    "    df_classified = df.copy()\n",
    "    \n",
    "    # Define grouping mapping\n",
    "    group_mapping = {\n",
    "        # Tomatoes\n",
    "        'Tomato': ['Tomato Big', 'Tomato Small', 'Tree Tomato'],\n",
    "        \n",
    "        # Potatoes\n",
    "        'Potato': ['Potato Red', 'Potato White', 'Sweet Potato'],\n",
    "        \n",
    "        # Onions\n",
    "        'Onion': ['Onion Dry', 'Onion Green'],\n",
    "        \n",
    "        # Root Vegetables\n",
    "        'Root Vegetables': ['Carrot', 'Turnip', 'Turnip A', 'Raddish Red', \n",
    "                          'Raddish White', 'Sugarbeet', 'Bakula', 'Yam', \n",
    "                          'Arum'],\n",
    "        \n",
    "        # Cabbage family\n",
    "        'Cabbage': ['Cabbage', 'Red Cabbbage', 'Cauli Local', 'Cauli Terai',\n",
    "                    'Brocauli', 'Knolkhol'],\n",
    "        \n",
    "        # Eggplants\n",
    "        'Eggplant': ['Brinjal Long', 'Brinjal Round'],\n",
    "        \n",
    "        # Beans and Peas\n",
    "        'Beans & Peas': ['Cow pea', 'Cowpea(Short)', 'Green Peas', 'French Bean',\n",
    "                        'Sword Bean', 'Soyabean Green'],\n",
    "        \n",
    "        # Gourds\n",
    "        'Gourd': ['Bitter Gourd', 'Bottle Gourd', 'Pointed Gourd',\n",
    "                  'Snake Gourd', 'Smooth Gourd', 'Sponge Gourd', 'Pumpkin',\n",
    "                  'Squash'],\n",
    "        \n",
    "        # Leafy Greens\n",
    "        'Leafy Greens': ['Brd Leaf Mustard', 'Spinach Leaf', 'Cress Leaf',\n",
    "                        'Mustard Leaf', 'Fenugreek Leaf', 'Lettuce', 'Celery',\n",
    "                        'Parseley', 'Fennel Leaf', 'Mint', 'Bauhania flower'],\n",
    "        \n",
    "        # Chilies and Peppers\n",
    "        'Chili & Pepper': ['Chilli Dry', 'Chilli Green', 'Capsicum'],\n",
    "        \n",
    "        # Garlic and Clive\n",
    "        'Garlic': ['Garlic Green', 'Garlic Dry', 'Clive Dry', 'Clive Green'],\n",
    "        \n",
    "        # Fish\n",
    "        'Fish': ['Fish Fresh'],\n",
    "        \n",
    "        # Citrus\n",
    "        'Citrus': ['Lime', 'Sweet Lime', 'Lemon', 'Orange', 'Sweet Orange',\n",
    "                   'Mandarin', 'Kinnow'],\n",
    "        \n",
    "        # Berries\n",
    "        'Berries': ['Strawberry'],\n",
    "        \n",
    "        # Mango\n",
    "        'Mango': ['Mango'],\n",
    "        \n",
    "        # Mushroom\n",
    "        'Mushroom': ['Mushroom', 'King Oyster', 'Lentinula Edodes'],\n",
    "        \n",
    "        # Other vegetables\n",
    "        'Other Vegetables': ['Okara', 'Christophine', 'Asparagus', 'Neuro',\n",
    "                           'Drumstick', 'Bamboo Shoot', 'Tofu', 'Gundruk',\n",
    "                           'Barela'],\n",
    "        \n",
    "        # Other fruits\n",
    "        'Other Fruits': ['Apple', 'Banana', 'Pomegranate', 'Grapes',\n",
    "                        'Water Melon', 'Pineapple', 'Cucumber', 'Jack Fruit',\n",
    "                        'Papaya', 'Guava', 'Mombin', 'Pear', 'Litchi',\n",
    "                        'Musk Melon', 'Kiwi', 'Sarifa', 'Avocado', 'Amla'],\n",
    "        \n",
    "        # Herbs and Spices\n",
    "        'Herbs & Spices': ['Tamarind', 'Ginger', 'Coriander Green'],\n",
    "        \n",
    "        # Grains\n",
    "        'Grains': ['Maize', 'Sugarcane']\n",
    "    }\n",
    "    \n",
    "    # Define category mapping\n",
    "    category_mapping = {\n",
    "        'Vegetable': ['Tomato', 'Potato', 'Onion', 'Root Vegetables', 'Cabbage',\n",
    "                     'Eggplant', 'Beans & Peas', 'Gourd', 'Leafy Greens',\n",
    "                     'Chili & Pepper', 'Garlic', 'Other Vegetables', 'Mushroom'],\n",
    "        'Fruit': ['Citrus', 'Mango', 'Other Fruits', 'Berries'],\n",
    "        'Non-veg': ['Fish'],\n",
    "        'Herbs & Spices': ['Herbs & Spices'],\n",
    "        'Grain': ['Grains']\n",
    "    }\n",
    "    \n",
    "    # Create reverse mappings for easy lookup\n",
    "    commodity_to_group = {commodity: group\n",
    "                         for group, commodities in group_mapping.items()\n",
    "                         for commodity in commodities}\n",
    "    \n",
    "    group_to_category = {group: category\n",
    "                        for category, groups in category_mapping.items()\n",
    "                        for group in groups}\n",
    "    \n",
    "    # Add Group column\n",
    "    df_classified['Group'] = df_classified['Family'].map(commodity_to_group)\n",
    "    \n",
    "    # Add Category column\n",
    "    df_classified['Category'] = df_classified['Group'].map(group_to_category)\n",
    "    \n",
    "    # Debug information\n",
    "    if debug:\n",
    "        unmatched = df_classified[df_classified['Group'].isnull()]['Family'].unique()\n",
    "        if len(unmatched) > 0:\n",
    "            print(\"\\nUnmatched commodities:\")\n",
    "            for item in unmatched:\n",
    "                print(f\"- '{item}'\")\n",
    "    \n",
    "    return df_classified"
   ]
  },
  {
   "cell_type": "code",
   "execution_count": 87,
   "id": "09c2175f-e7e1-4c07-8f5f-84180049e2dd",
   "metadata": {},
   "outputs": [
    {
     "data": {
      "text/html": [
       "<div>\n",
       "<style scoped>\n",
       "    .dataframe tbody tr th:only-of-type {\n",
       "        vertical-align: middle;\n",
       "    }\n",
       "\n",
       "    .dataframe tbody tr th {\n",
       "        vertical-align: top;\n",
       "    }\n",
       "\n",
       "    .dataframe thead th {\n",
       "        text-align: right;\n",
       "    }\n",
       "</style>\n",
       "<table border=\"1\" class=\"dataframe\">\n",
       "  <thead>\n",
       "    <tr style=\"text-align: right;\">\n",
       "      <th></th>\n",
       "      <th>Commodity</th>\n",
       "      <th>Date</th>\n",
       "      <th>Unit</th>\n",
       "      <th>Minimum</th>\n",
       "      <th>Maximum</th>\n",
       "      <th>Average</th>\n",
       "      <th>Family</th>\n",
       "      <th>Group</th>\n",
       "      <th>Category</th>\n",
       "    </tr>\n",
       "  </thead>\n",
       "  <tbody>\n",
       "    <tr>\n",
       "      <th>0</th>\n",
       "      <td>Tomato Big(Nepali)</td>\n",
       "      <td>2013-06-16</td>\n",
       "      <td>KG</td>\n",
       "      <td>35.0</td>\n",
       "      <td>40.0</td>\n",
       "      <td>37.50</td>\n",
       "      <td>Tomato Big</td>\n",
       "      <td>Tomato</td>\n",
       "      <td>Vegetable</td>\n",
       "    </tr>\n",
       "    <tr>\n",
       "      <th>1</th>\n",
       "      <td>Tomato Small(Local)</td>\n",
       "      <td>2013-06-16</td>\n",
       "      <td>KG</td>\n",
       "      <td>26.0</td>\n",
       "      <td>32.0</td>\n",
       "      <td>29.00</td>\n",
       "      <td>Tomato Small</td>\n",
       "      <td>Tomato</td>\n",
       "      <td>Vegetable</td>\n",
       "    </tr>\n",
       "    <tr>\n",
       "      <th>2</th>\n",
       "      <td>Potato Red</td>\n",
       "      <td>2013-06-16</td>\n",
       "      <td>KG</td>\n",
       "      <td>20.0</td>\n",
       "      <td>21.0</td>\n",
       "      <td>20.50</td>\n",
       "      <td>Potato Red</td>\n",
       "      <td>Potato</td>\n",
       "      <td>Vegetable</td>\n",
       "    </tr>\n",
       "    <tr>\n",
       "      <th>3</th>\n",
       "      <td>Potato White</td>\n",
       "      <td>2013-06-16</td>\n",
       "      <td>KG</td>\n",
       "      <td>15.0</td>\n",
       "      <td>16.0</td>\n",
       "      <td>15.50</td>\n",
       "      <td>Potato White</td>\n",
       "      <td>Potato</td>\n",
       "      <td>Vegetable</td>\n",
       "    </tr>\n",
       "    <tr>\n",
       "      <th>4</th>\n",
       "      <td>Onion Dry (Indian)</td>\n",
       "      <td>2013-06-16</td>\n",
       "      <td>KG</td>\n",
       "      <td>28.0</td>\n",
       "      <td>30.0</td>\n",
       "      <td>29.00</td>\n",
       "      <td>Onion Dry</td>\n",
       "      <td>Onion</td>\n",
       "      <td>Vegetable</td>\n",
       "    </tr>\n",
       "    <tr>\n",
       "      <th>...</th>\n",
       "      <td>...</td>\n",
       "      <td>...</td>\n",
       "      <td>...</td>\n",
       "      <td>...</td>\n",
       "      <td>...</td>\n",
       "      <td>...</td>\n",
       "      <td>...</td>\n",
       "      <td>...</td>\n",
       "      <td>...</td>\n",
       "    </tr>\n",
       "    <tr>\n",
       "      <th>44869</th>\n",
       "      <td>Fish Fresh(Chhadi)</td>\n",
       "      <td>2024-12-23</td>\n",
       "      <td>KG</td>\n",
       "      <td>240.0</td>\n",
       "      <td>260.0</td>\n",
       "      <td>250.00</td>\n",
       "      <td>Fish Fresh</td>\n",
       "      <td>Fish</td>\n",
       "      <td>Non-veg</td>\n",
       "    </tr>\n",
       "    <tr>\n",
       "      <th>44870</th>\n",
       "      <td>Fish Fresh(Mungari)</td>\n",
       "      <td>2024-12-23</td>\n",
       "      <td>KG</td>\n",
       "      <td>400.0</td>\n",
       "      <td>450.0</td>\n",
       "      <td>426.67</td>\n",
       "      <td>Fish Fresh</td>\n",
       "      <td>Fish</td>\n",
       "      <td>Non-veg</td>\n",
       "    </tr>\n",
       "    <tr>\n",
       "      <th>44871</th>\n",
       "      <td>Tree Tomato</td>\n",
       "      <td>2024-12-23</td>\n",
       "      <td>KG</td>\n",
       "      <td>150.0</td>\n",
       "      <td>160.0</td>\n",
       "      <td>155.00</td>\n",
       "      <td>Tree Tomato</td>\n",
       "      <td>Tomato</td>\n",
       "      <td>Vegetable</td>\n",
       "    </tr>\n",
       "    <tr>\n",
       "      <th>44872</th>\n",
       "      <td>King Oyster</td>\n",
       "      <td>2024-12-23</td>\n",
       "      <td>KG</td>\n",
       "      <td>280.0</td>\n",
       "      <td>300.0</td>\n",
       "      <td>290.00</td>\n",
       "      <td>King Oyster</td>\n",
       "      <td>Mushroom</td>\n",
       "      <td>Vegetable</td>\n",
       "    </tr>\n",
       "    <tr>\n",
       "      <th>44873</th>\n",
       "      <td>Lentinula Edodes</td>\n",
       "      <td>2024-12-23</td>\n",
       "      <td>KG</td>\n",
       "      <td>700.0</td>\n",
       "      <td>800.0</td>\n",
       "      <td>750.00</td>\n",
       "      <td>Lentinula Edodes</td>\n",
       "      <td>Mushroom</td>\n",
       "      <td>Vegetable</td>\n",
       "    </tr>\n",
       "  </tbody>\n",
       "</table>\n",
       "<p>338515 rows × 9 columns</p>\n",
       "</div>"
      ],
      "text/plain": [
       "                 Commodity       Date Unit  Minimum  Maximum  Average  \\\n",
       "0       Tomato Big(Nepali) 2013-06-16   KG     35.0     40.0    37.50   \n",
       "1      Tomato Small(Local) 2013-06-16   KG     26.0     32.0    29.00   \n",
       "2               Potato Red 2013-06-16   KG     20.0     21.0    20.50   \n",
       "3             Potato White 2013-06-16   KG     15.0     16.0    15.50   \n",
       "4       Onion Dry (Indian) 2013-06-16   KG     28.0     30.0    29.00   \n",
       "...                    ...        ...  ...      ...      ...      ...   \n",
       "44869   Fish Fresh(Chhadi) 2024-12-23   KG    240.0    260.0   250.00   \n",
       "44870  Fish Fresh(Mungari) 2024-12-23   KG    400.0    450.0   426.67   \n",
       "44871          Tree Tomato 2024-12-23   KG    150.0    160.0   155.00   \n",
       "44872          King Oyster 2024-12-23   KG    280.0    300.0   290.00   \n",
       "44873     Lentinula Edodes 2024-12-23   KG    700.0    800.0   750.00   \n",
       "\n",
       "                 Family     Group   Category  \n",
       "0            Tomato Big    Tomato  Vegetable  \n",
       "1          Tomato Small    Tomato  Vegetable  \n",
       "2            Potato Red    Potato  Vegetable  \n",
       "3          Potato White    Potato  Vegetable  \n",
       "4             Onion Dry     Onion  Vegetable  \n",
       "...                 ...       ...        ...  \n",
       "44869        Fish Fresh      Fish    Non-veg  \n",
       "44870        Fish Fresh      Fish    Non-veg  \n",
       "44871       Tree Tomato    Tomato  Vegetable  \n",
       "44872       King Oyster  Mushroom  Vegetable  \n",
       "44873  Lentinula Edodes  Mushroom  Vegetable  \n",
       "\n",
       "[338515 rows x 9 columns]"
      ]
     },
     "execution_count": 87,
     "metadata": {},
     "output_type": "execute_result"
    }
   ],
   "source": [
    "df_categorized = classify_commodities(result_df)\n",
    "df_categorized"
   ]
  },
  {
   "cell_type": "code",
   "execution_count": 93,
   "id": "cbc47fd8-5003-4c42-a198-4daba6398d86",
   "metadata": {},
   "outputs": [
    {
     "data": {
      "text/plain": [
       "Commodity    0\n",
       "Date         0\n",
       "Unit         0\n",
       "Minimum      0\n",
       "Maximum      0\n",
       "Average      0\n",
       "Family       0\n",
       "Group        0\n",
       "Category     0\n",
       "dtype: int64"
      ]
     },
     "execution_count": 93,
     "metadata": {},
     "output_type": "execute_result"
    }
   ],
   "source": [
    "df_categorized.isnull().sum()"
   ]
  },
  {
   "cell_type": "code",
   "execution_count": 94,
   "id": "6475b6d9-d7ae-499f-b522-af31cd4a6271",
   "metadata": {},
   "outputs": [],
   "source": [
    "df_categorized.to_csv(\"data/kalimati_final_with_family.csv\", index=False)"
   ]
  }
 ],
 "metadata": {
  "kernelspec": {
   "display_name": "Python 3 (ipykernel)",
   "language": "python",
   "name": "python3"
  },
  "language_info": {
   "codemirror_mode": {
    "name": "ipython",
    "version": 3
   },
   "file_extension": ".py",
   "mimetype": "text/x-python",
   "name": "python",
   "nbconvert_exporter": "python",
   "pygments_lexer": "ipython3",
   "version": "3.13.1"
  }
 },
 "nbformat": 4,
 "nbformat_minor": 5
}
